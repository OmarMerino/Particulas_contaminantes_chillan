{
 "cells": [
  {
   "cell_type": "code",
   "execution_count": 117,
   "id": "8f1669d6-b09f-4c51-85a1-f1ac3ae0438d",
   "metadata": {},
   "outputs": [],
   "source": [
    "import pandas as pd\n",
    "import joblib"
   ]
  },
  {
   "cell_type": "code",
   "execution_count": 118,
   "id": "a3ee0539-18f2-42d4-be10-b7dd07d093d5",
   "metadata": {},
   "outputs": [
    {
     "data": {
      "text/plain": [
       "dict_keys(['pm_2.5_inia', 'pm_2.5_puren', 'pm_10_inia', 'pm_10_puren'])"
      ]
     },
     "execution_count": 118,
     "metadata": {},
     "output_type": "execute_result"
    }
   ],
   "source": [
    "dict_particulas = joblib.load('dataframes_dict.joblib')\n",
    "dict_particulas.keys()"
   ]
  },
  {
   "cell_type": "code",
   "execution_count": 119,
   "id": "0ace5c1e",
   "metadata": {},
   "outputs": [],
   "source": [
    "#PARA PM2.5\n",
    "# RECORRER DIA A DIA EN AMBAS ESTACIONES\n",
    "# TRATAR SIGUIENTES CASOS: \n",
    "# si existen valores en una estacion solamente entonces dejar el valor existente\n",
    "# si existen valores en ambas estaciones entonces promediar\n",
    "df_puren25 = dict_particulas['pm_2.5_puren']\n",
    "df_inia25 = dict_particulas['pm_2.5_inia']\n",
    "\n",
    "# Establecer la columna de fecha como índice\n",
    "df_puren25.reset_index(inplace=True)\n",
    "df_inia25.reset_index(inplace=True)\n",
    "\n",
    "df_puren25.set_index('fecha', inplace=True)\n",
    "df_inia25.set_index('fecha', inplace=True)\n",
    "\n",
    "# Combinar los dos data frames\n",
    "df_combinado25 = pd.concat([df_puren25, df_inia25], keys=['puren', 'inia'], axis=1)\n",
    "\n",
    "\n",
    "#PARA PM10\n",
    "# RECORRER DIA A DIA EN AMBAS ESTACIONES\n",
    "# TRATAR SIGUIENTES CASOS: \n",
    "# si existen valores en una estacion solamente entonces dejar el valor existente\n",
    "# si existen valores en ambas estaciones entonces promediar\n",
    "\n",
    "df_puren10 = dict_particulas['pm_10_puren']\n",
    "df_inia10 = dict_particulas['pm_10_inia']\n",
    "\n",
    "# Establecer la columna de fecha como índice\n",
    "df_puren10.reset_index(inplace=True)\n",
    "df_inia10.reset_index(inplace=True)\n",
    "\n",
    "df_puren10.set_index('fecha', inplace=True)\n",
    "df_inia10.set_index('fecha', inplace=True)\n",
    "\n",
    "# Combinar los dos data frames\n",
    "df_combinado10 = pd.concat([df_puren10, df_inia10], keys=['puren', 'inia'], axis=1)\n",
    "\n",
    "\n"
   ]
  },
  {
   "cell_type": "code",
   "execution_count": 120,
   "id": "0df471dc",
   "metadata": {},
   "outputs": [
    {
     "name": "stdout",
     "output_type": "stream",
     "text": [
      "             puren               inia          promedio_o_existente\n",
      "             index   registro   index registro                     \n",
      "fecha                                                              \n",
      "2012-12-31     0.0   7.318980     NaN      NaN             7.318980\n",
      "2013-01-01     1.0   9.361155     NaN      NaN             9.361155\n",
      "2013-01-02     2.0  13.786540     NaN      NaN            13.786540\n",
      "2013-01-03     3.0  12.311413     0.0  12.2021            12.256756\n",
      "2013-01-04     4.0  12.694497     NaN      NaN            12.694497\n",
      "...            ...        ...     ...      ...                  ...\n",
      "2023-03-27  3711.0  20.166667  3222.0  17.0000            18.583333\n",
      "2023-03-28  3712.0   6.625000  3223.0   5.0000             5.812500\n",
      "2023-03-29  3713.0   5.708333  3224.0   5.0000             5.354167\n",
      "2023-03-30  3714.0  11.666667  3225.0   9.0000            10.333333\n",
      "2023-03-31  3715.0  22.666667  3226.0  19.0000            20.833333\n",
      "\n",
      "[3734 rows x 5 columns]\n"
     ]
    }
   ],
   "source": [
    "# Lidiar con NaNs y calcular el promedio donde sea necesario\n",
    "def promedio_o_existente(row):\n",
    "    valor_puren = row[('puren', 'registro')]\n",
    "    valor_inia = row[('inia', 'registro')]\n",
    "    \n",
    "    if pd.isna(valor_puren) and pd.isna(valor_inia):\n",
    "        return np.nan\n",
    "    elif pd.isna(valor_puren):\n",
    "        return valor_inia\n",
    "    elif pd.isna(valor_inia):\n",
    "        return valor_puren\n",
    "    else:\n",
    "        return (valor_puren + valor_inia) / 2\n",
    "\n",
    "\n",
    "\n",
    "# Aplicar la función a todas las filas\n",
    "df_combinado25['promedio_o_existente'] = df_combinado25.apply(promedio_o_existente, axis=1)\n",
    "\n",
    "# Mostrar el resultado\n",
    "print(df_combinado25)\n"
   ]
  },
  {
   "cell_type": "code",
   "execution_count": 121,
   "id": "5dca8db9",
   "metadata": {},
   "outputs": [
    {
     "name": "stdout",
     "output_type": "stream",
     "text": [
      "           puren           inia          promedio_o_existente\n",
      "           index registro index registro                     \n",
      "fecha                                                        \n",
      "2013-01-01   0.0  27.4733   0.0  23.0059             25.23960\n",
      "2013-01-02   1.0  40.6500   1.0  31.5644             36.10720\n",
      "2013-01-03   2.0  32.1830   2.0  26.2818             29.23240\n",
      "2013-01-04   3.0  38.0133   3.0  28.3704             33.19185\n",
      "2013-01-05   4.0  30.8071   4.0  21.8812             26.34415\n"
     ]
    }
   ],
   "source": [
    "df_combinado10['promedio_o_existente'] = df_combinado10.apply(promedio_o_existente, axis=1)\n",
    "# Mostrar el resultado\n",
    "print(df_combinado10.head())"
   ]
  },
  {
   "cell_type": "code",
   "execution_count": 122,
   "id": "6705a609",
   "metadata": {},
   "outputs": [
    {
     "name": "stdout",
     "output_type": "stream",
     "text": [
      "          fecha   registro\n",
      "0    2012-12-31   7.318980\n",
      "1    2013-01-01   9.361155\n",
      "2    2013-01-02  13.786540\n",
      "3    2013-01-03  12.256756\n",
      "4    2013-01-04  12.694497\n",
      "...         ...        ...\n",
      "3729 2023-03-27  18.583333\n",
      "3730 2023-03-28   5.812500\n",
      "3731 2023-03-29   5.354167\n",
      "3732 2023-03-30  10.333333\n",
      "3733 2023-03-31  20.833333\n",
      "\n",
      "[3734 rows x 2 columns]\n"
     ]
    }
   ],
   "source": [
    "df_pm25 = df_combinado25.drop(['puren', 'inia'], axis=1, level=0)\n",
    "\n",
    "df_pm25.reset_index(inplace=True)\n",
    "\n",
    "#asignar los nombres de las columnas\n",
    "df_pm25.columns = ['fecha', 'registro']\n",
    "\n",
    "print(df_pm25)\n",
    "\n"
   ]
  },
  {
   "cell_type": "code",
   "execution_count": 123,
   "id": "9fe9e8ad",
   "metadata": {},
   "outputs": [
    {
     "name": "stdout",
     "output_type": "stream",
     "text": [
      "          fecha  registro\n",
      "0    2013-01-01  25.23960\n",
      "1    2013-01-02  36.10720\n",
      "2    2013-01-03  29.23240\n",
      "3    2013-01-04  33.19185\n",
      "4    2013-01-05  26.34415\n",
      "...         ...       ...\n",
      "3726 2023-03-27  47.50000\n",
      "3727 2023-03-28  23.00000\n",
      "3728 2023-03-29  21.50000\n",
      "3729 2023-03-30  32.00000\n",
      "3730 2023-03-31  47.00000\n",
      "\n",
      "[3731 rows x 2 columns]\n"
     ]
    }
   ],
   "source": [
    "df_pm10 = df_combinado10.drop(['puren', 'inia'], axis=1, level=0)\n",
    "\n",
    "df_pm10.reset_index(inplace=True)\n",
    "\n",
    "#asignar los nombres de las columnas\n",
    "df_pm10.columns = ['fecha', 'registro']\n",
    "\n",
    "print(df_pm10)"
   ]
  },
  {
   "cell_type": "code",
   "execution_count": 125,
   "id": "b32f6bb4",
   "metadata": {},
   "outputs": [
    {
     "data": {
      "text/plain": [
       "['contaminantes.joblib']"
      ]
     },
     "execution_count": 125,
     "metadata": {},
     "output_type": "execute_result"
    }
   ],
   "source": [
    "dict_combined ={\n",
    "    'pm_2.5': df_pm25,\n",
    "    'pm_10': df_pm10\n",
    "}\n",
    "#exportamos diccionario\n",
    "joblib.dump(dict_combined, 'contaminantes.joblib')"
   ]
  },
  {
   "cell_type": "code",
   "execution_count": null,
   "id": "7e328e6e",
   "metadata": {},
   "outputs": [],
   "source": []
  }
 ],
 "metadata": {
  "kernelspec": {
   "display_name": "Python 3 (ipykernel)",
   "language": "python",
   "name": "python3"
  },
  "language_info": {
   "codemirror_mode": {
    "name": "ipython",
    "version": 3
   },
   "file_extension": ".py",
   "mimetype": "text/x-python",
   "name": "python",
   "nbconvert_exporter": "python",
   "pygments_lexer": "ipython3",
   "version": "3.11.4"
  }
 },
 "nbformat": 4,
 "nbformat_minor": 5
}
