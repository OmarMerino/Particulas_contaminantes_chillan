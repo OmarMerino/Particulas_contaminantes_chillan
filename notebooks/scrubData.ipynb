{
 "cells": [
  {
   "cell_type": "code",
   "execution_count": 1,
   "id": "8f1669d6-b09f-4c51-85a1-f1ac3ae0438d",
   "metadata": {},
   "outputs": [],
   "source": [
    "import matplotlib.pyplot as plt\n",
    "import pandas as pd\n",
    "import joblib"
   ]
  },
  {
   "cell_type": "code",
   "execution_count": 2,
   "id": "a3ee0539-18f2-42d4-be10-b7dd07d093d5",
   "metadata": {},
   "outputs": [],
   "source": [
    "dict_dataframes_particulas = joblib.load('dataframes_dict.joblib')"
   ]
  },
  {
   "cell_type": "code",
   "execution_count": 3,
   "id": "4ddda34b",
   "metadata": {},
   "outputs": [
    {
     "data": {
      "text/plain": [
       "dict_keys(['pm_2.5_inia', 'pm_2.5_puren', 'pm_10_inia', 'pm_10_puren'])"
      ]
     },
     "execution_count": 3,
     "metadata": {},
     "output_type": "execute_result"
    }
   ],
   "source": [
    "dict_dataframes_particulas.keys()"
   ]
  },
  {
   "cell_type": "code",
   "execution_count": null,
   "id": "40abdb29",
   "metadata": {},
   "outputs": [],
   "source": [
    "#necesitamos normalizar el data set de las fechas con duplicados\n",
    "#la estacion de puren hace registro horario\n",
    "#idea : sacar promedio de las horas medidas\n",
    "for clave, valor in dict_dataframes_particulas.items():\n",
    "    num_duplicados = valor.duplicated(subset=['FECHA (YYMMDD)']).sum()\n",
    "    print(clave, num_duplicados)\n"
   ]
  },
  {
   "cell_type": "code",
   "execution_count": null,
   "id": "2393b54d",
   "metadata": {},
   "outputs": [],
   "source": []
  },
  {
   "cell_type": "code",
   "execution_count": null,
   "id": "b4b54dd9",
   "metadata": {},
   "outputs": [],
   "source": []
  }
 ],
 "metadata": {
  "kernelspec": {
   "display_name": "Python 3 (ipykernel)",
   "language": "python",
   "name": "python3"
  },
  "language_info": {
   "codemirror_mode": {
    "name": "ipython",
    "version": 3
   },
   "file_extension": ".py",
   "mimetype": "text/x-python",
   "name": "python",
   "nbconvert_exporter": "python",
   "pygments_lexer": "ipython3",
   "version": "3.11.4"
  }
 },
 "nbformat": 4,
 "nbformat_minor": 5
}
