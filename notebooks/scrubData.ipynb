{
 "cells": [
  {
   "cell_type": "code",
   "execution_count": 2,
   "id": "8f1669d6-b09f-4c51-85a1-f1ac3ae0438d",
   "metadata": {},
   "outputs": [],
   "source": [
    "import matplotlib.pyplot as plt\n",
    "import pandas as pd\n",
    "import joblib"
   ]
  },
  {
   "cell_type": "code",
   "execution_count": 3,
   "id": "a3ee0539-18f2-42d4-be10-b7dd07d093d5",
   "metadata": {},
   "outputs": [
    {
     "data": {
      "text/plain": [
       "dict_keys(['pm_2.5_inia', 'pm_2.5_puren', 'pm_10_inia', 'pm_10_puren'])"
      ]
     },
     "execution_count": 3,
     "metadata": {},
     "output_type": "execute_result"
    }
   ],
   "source": [
    "dict_particulas = joblib.load('dataframes_dict.joblib')\n",
    "dict_particulas.keys()"
   ]
  },
  {
   "cell_type": "code",
   "execution_count": 4,
   "id": "4ddda34b",
   "metadata": {},
   "outputs": [
    {
     "name": "stdout",
     "output_type": "stream",
     "text": [
      "primera medicion \n",
      "\n",
      "pm_2.5_inia 2013-01-03 00:00:00 \n",
      "\n",
      "pm_2.5_puren 2012-12-31 00:00:00 \n",
      "\n",
      "pm_10_inia 2013-01-01 00:00:00 \n",
      "\n",
      "pm_10_puren 2013-01-01 00:00:00 \n",
      "\n",
      "ultima medicion \n",
      "\n",
      "pm_2.5_inia 2023-03-31 00:00:00 \n",
      "\n",
      "pm_2.5_puren 2023-03-31 00:00:00 \n",
      "\n",
      "pm_10_inia 2023-03-31 00:00:00 \n",
      "\n",
      "pm_10_puren 2023-03-31 00:00:00 \n",
      "\n"
     ]
    }
   ],
   "source": [
    "print('primera medicion','\\n')\n",
    "for clave, valor in dict_particulas.items():\n",
    "    fecha_min = valor['fecha'].min()\n",
    "    print(clave, fecha_min,'\\n')\n",
    "\n",
    "\n",
    "print('ultima medicion','\\n')\n",
    "for clave, valor in dict_particulas.items():\n",
    "    fecha_max = valor['fecha'].max()\n",
    "    print(clave, fecha_max,'\\n')\n",
    "\n"
   ]
  },
  {
   "cell_type": "code",
   "execution_count": 5,
   "id": "40abdb29",
   "metadata": {},
   "outputs": [
    {
     "name": "stdout",
     "output_type": "stream",
     "text": [
      "466\n"
     ]
    }
   ],
   "source": [
    "# Diccionario para almacenar los sub-DataFrames\n",
    "dict_particulas_mes = {}\n",
    "\n",
    "for key, df in dict_particulas.items():\n",
    "    # Agrupación por año y mes\n",
    "    grouped = df.groupby([df['fecha'].dt.year, df['fecha'].dt.month])\n",
    "    \n",
    "    for (year, month), group in grouped:\n",
    "        sub_key = f\"{key}_{year}_{month:02d}\" \n",
    "        dict_particulas_mes[sub_key] = group\n",
    "\n",
    "# Verificación: imprimir las llaves de los sub-DataFrames generados\n",
    "print(len(dict_particulas_mes))\n"
   ]
  },
  {
   "cell_type": "code",
   "execution_count": 6,
   "id": "2393b54d",
   "metadata": {},
   "outputs": [
    {
     "name": "stdout",
     "output_type": "stream",
     "text": [
      "inia_pm25 123 registros\n",
      "inia_pm10 106 registros\n",
      "\n",
      "\n",
      "puren_pm25 123 registros\n",
      "puren_pm10 123 registros\n"
     ]
    }
   ],
   "source": [
    "\n",
    "#diccionarios que contienen todos los meses medidos por particula_estacion_año_mes\n",
    "\n",
    "inia_pm25 = {key: value for key, value in dict_particulas_mes.items() if 'pm_2.5_inia' in key}\n",
    "\n",
    "inia_pm10 = {key: value for key, value in dict_particulas_mes.items() if 'pm_10_inia' in key}\n",
    "\n",
    "puren_pm25 = {key: value for key, value in dict_particulas_mes.items() if 'pm_10_puren' in key}\n",
    "\n",
    "puren_pm10 = {key: value for key, value in dict_particulas_mes.items() if 'pm_10_puren' in key}\n",
    "\n",
    "\n",
    "\n",
    "print('inia_pm25',len(puren_pm25), 'registros')\n",
    "print('inia_pm10',len(inia_pm10), 'registros')\n",
    "print('\\n')\n",
    "print('puren_pm25',len(puren_pm25), 'registros')\n",
    "print('puren_pm10',len(puren_pm10), 'registros')\n"
   ]
  }
 ],
 "metadata": {
  "kernelspec": {
   "display_name": "Python 3 (ipykernel)",
   "language": "python",
   "name": "python3"
  },
  "language_info": {
   "codemirror_mode": {
    "name": "ipython",
    "version": 3
   },
   "file_extension": ".py",
   "mimetype": "text/x-python",
   "name": "python",
   "nbconvert_exporter": "python",
   "pygments_lexer": "ipython3",
   "version": "3.11.4"
  }
 },
 "nbformat": 4,
 "nbformat_minor": 5
}
