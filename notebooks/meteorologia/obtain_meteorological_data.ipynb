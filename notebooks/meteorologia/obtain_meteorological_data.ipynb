{
 "cells": [
  {
   "cell_type": "code",
   "execution_count": 1,
   "metadata": {},
   "outputs": [],
   "source": [
    "import pandas as pd\n",
    "import joblib\n",
    "import os"
   ]
  },
  {
   "cell_type": "code",
   "execution_count": 2,
   "metadata": {},
   "outputs": [
    {
     "name": "stdout",
     "output_type": "stream",
     "text": [
      "                momento  valor_humedad\n",
      "0       01-01-2010 0:00           72.0\n",
      "1      01-01-2010 12:00           85.0\n",
      "2      01-01-2010 13:00           66.0\n",
      "3      01-01-2010 14:00           60.0\n",
      "4      01-01-2010 15:00           55.0\n",
      "...                 ...            ...\n",
      "89370   01-09-2023 4:00           97.0\n",
      "89371   01-09-2023 5:00           97.0\n",
      "89372   01-09-2023 6:00           97.0\n",
      "89373   01-09-2023 7:00           97.0\n",
      "89374   01-09-2023 8:00           95.0\n",
      "\n",
      "[89375 rows x 2 columns]\n"
     ]
    }
   ],
   "source": [
    "#DataFrame para trabajar con todos los datos de Humedad\n",
    "\n",
    "#Ruta de la carpeta que contiene los archivos \"Humedad\"\n",
    "humidity_files = '../../data/raw/datos_direccion_meteorologica/Humedad'\n",
    "\n",
    "# Se inicializa un DataFrame vacío que almacene todos los elementos\n",
    "df_humidity = pd.DataFrame()\n",
    "\n",
    "#Ciclo for para recorrer los años desde el 2010 hasta 2023\n",
    "for año in range(2010, 2024):\n",
    "    # Nombre del archivo correspondiente al año actual\n",
    "    file_name = f'Humedad_{año}.csv'\n",
    "\n",
    "    # Ruta completa del archivo \n",
    "    file_route = os.path.join(humidity_files, file_name)\n",
    "\n",
    "    # Se verifica si el archivo existe\n",
    "    if os.path.exists(file_route):\n",
    "        # Lee los datos del archivo y los agregar al DataFrame principal\n",
    "        datos_año_actual = pd.read_csv(file_route, sep=';', usecols=[0, 1], decimal='.')\n",
    "        df_humidity = pd.concat([df_humidity, datos_año_actual], ignore_index=True)\n",
    "\n",
    "# --- Fin del ciclo For #\n",
    "\n",
    "print (df_humidity)"
   ]
  },
  {
   "cell_type": "code",
   "execution_count": 3,
   "metadata": {},
   "outputs": [
    {
     "name": "stdout",
     "output_type": "stream",
     "text": [
      "                momento  valor_puntoRocio\n",
      "0       01-01-2010 0:00              12.9\n",
      "1      01-01-2010 12:00              13.3\n",
      "2      01-01-2010 15:00              10.6\n",
      "3      01-01-2010 18:00               9.7\n",
      "4      01-01-2010 21:00               7.0\n",
      "...                 ...               ...\n",
      "87145   01-09-2023 4:00               3.4\n",
      "87146   01-09-2023 5:00               2.5\n",
      "87147   01-09-2023 6:00               3.2\n",
      "87148   01-09-2023 7:00               4.1\n",
      "87149   01-09-2023 8:00               4.7\n",
      "\n",
      "[87150 rows x 2 columns]\n"
     ]
    }
   ],
   "source": [
    "#DataFrame para trabajar con todos los datos de Punto de Rocio\n",
    "\n",
    "#Ruta de la carpeta que contiene los archivos \"Punto de Rocio\"\n",
    "dewPoint_files = '../../data/raw/datos_direccion_meteorologica/Punto de Rocio'\n",
    "\n",
    "# Se inicializa un DataFrame vacío que almacene todos los elementos\n",
    "df_dewPoint = pd.DataFrame()\n",
    "\n",
    "#Ciclo for para recorrer los archivos .csv desde el 2010 hasta 2023\n",
    "for año in range(2010, 2024):\n",
    "    # Nombre del archivo correspondiente al año actual\n",
    "    file_name = f'PuntoRocio_{año}.csv'\n",
    "\n",
    "    # Ruta completa del archivo \n",
    "    file_route = os.path.join(dewPoint_files, file_name)\n",
    "\n",
    "    # Se verifica si el archivo existe\n",
    "    if os.path.exists(file_route):\n",
    "        # Lee los datos del archivo y los agregar al DataFrame principal\n",
    "        datos_año_actual = pd.read_csv(file_route, sep=';', usecols=[0, 1])\n",
    "        df_dewPoint = pd.concat([df_dewPoint, datos_año_actual], ignore_index=True)\n",
    "\n",
    "# --- Fin del ciclo For #\n",
    "\n",
    "print (df_dewPoint)"
   ]
  },
  {
   "cell_type": "code",
   "execution_count": 4,
   "metadata": {},
   "outputs": [
    {
     "name": "stdout",
     "output_type": "stream",
     "text": [
      "                momento  valor_temperatura\n",
      "0       01-01-2010 0:00               18.0\n",
      "1      01-01-2010 12:00               15.8\n",
      "2      01-01-2010 13:00               17.6\n",
      "3      01-01-2010 14:00               18.8\n",
      "4      01-01-2010 15:00               20.0\n",
      "...                 ...                ...\n",
      "90000   01-09-2023 4:00                3.8\n",
      "90001   01-09-2023 5:00                2.9\n",
      "90002   01-09-2023 6:00                3.6\n",
      "90003   01-09-2023 7:00                4.5\n",
      "90004   01-09-2023 8:00                5.4\n",
      "\n",
      "[90005 rows x 2 columns]\n"
     ]
    }
   ],
   "source": [
    "#DataFrame para trabajar con todos los datos de Temperatura\n",
    "\n",
    "#Ruta de la carpeta que contiene los archivos \"Temperatura\"\n",
    "temperature_files = '../../data/raw/datos_direccion_meteorologica/Temperatura'\n",
    "\n",
    "# Se inicializa un DataFrame vacío que almacene todos los elementos\n",
    "df_temperature = pd.DataFrame()\n",
    "\n",
    "#Ciclo for para recorrer los archivos .csv desde el 2010 hasta 2023\n",
    "for año in range(2010, 2024):\n",
    "    # Nombre del archivo correspondiente al año actual\n",
    "    file_name = f'Temperatura_{año}.csv'\n",
    "\n",
    "    # Ruta completa del archivo \n",
    "    file_route = os.path.join(temperature_files, file_name)\n",
    "\n",
    "    # Se verifica si el archivo existe\n",
    "    if os.path.exists(file_route):\n",
    "        # Lee los datos del archivo y los agregar al DataFrame principal\n",
    "        datos_año_actual = pd.read_csv(file_route, sep=';', usecols=[0, 1])\n",
    "        df_temperature = pd.concat([df_temperature, datos_año_actual], ignore_index=True)\n",
    "\n",
    "# --- Fin del ciclo For #\n",
    "\n",
    "print (df_temperature)"
   ]
  },
  {
   "cell_type": "code",
   "execution_count": 5,
   "metadata": {},
   "outputs": [
    {
     "name": "stdout",
     "output_type": "stream",
     "text": [
      "                momento  dd_Valor  ff_Valor\n",
      "0       01-01-2010 0:00     270.0       8.0\n",
      "1      01-01-2010 12:00     180.0       4.0\n",
      "2      01-01-2010 15:00     180.0       4.0\n",
      "3      01-01-2010 18:00     210.0       6.0\n",
      "4      01-01-2010 21:00     210.0       9.0\n",
      "...                 ...       ...       ...\n",
      "87130   01-09-2023 4:00      55.0       2.0\n",
      "87131   01-09-2023 5:00      83.0       3.0\n",
      "87132   01-09-2023 6:00     115.0       2.0\n",
      "87133   01-09-2023 7:00      75.0       1.0\n",
      "87134   01-09-2023 8:00      64.0       7.0\n",
      "\n",
      "[87135 rows x 3 columns]\n"
     ]
    }
   ],
   "source": [
    "#DataFrame para trabajar con todos los datos de Viento\n",
    "\n",
    "#Ruta de la carpeta que contiene los archivos \"Viento\"\n",
    "wind_files = '../../data/raw/datos_direccion_meteorologica/Viento'\n",
    "\n",
    "# Se inicializa un DataFrame vacío que almacene todos los elementos\n",
    "df_wind = pd.DataFrame()\n",
    "\n",
    "#Ciclo for para recorrer los archivos .csv desde el 2010 hasta 2023\n",
    "for año in range(2010, 2024):\n",
    "    # Nombre del archivo correspondiente al año actual\n",
    "    file_name = f'Viento_{año}.csv'\n",
    "\n",
    "    # Ruta completa del archivo \n",
    "    file_route = os.path.join(wind_files, file_name)\n",
    "\n",
    "    # Se verifica si el archivo existe\n",
    "    if os.path.exists(file_route):\n",
    "        # Lee los datos del archivo y los agregar al DataFrame principal\n",
    "        datos_año_actual = pd.read_csv(file_route, sep=';')\n",
    "        df_wind = pd.concat([df_wind, datos_año_actual], ignore_index=True)\n",
    "\n",
    "# --- Fin del ciclo For #\n",
    "\n",
    "print(df_wind)\n",
    "\n"
   ]
  },
  {
   "cell_type": "code",
   "execution_count": 6,
   "metadata": {},
   "outputs": [
    {
     "name": "stdout",
     "output_type": "stream",
     "text": [
      "        fecha    humedad\n",
      "0  2010-01-01  50.000000\n",
      "1  2010-01-02  45.307692\n",
      "2  2010-01-03  52.384615\n",
      "3  2010-01-04  70.384615\n",
      "4  2010-01-05  65.000000\n",
      "        fecha  puntoRocio\n",
      "0  2010-01-01       10.70\n",
      "1  2010-01-02       10.56\n",
      "2  2010-01-03       12.94\n",
      "3  2010-01-04       14.14\n",
      "4  2010-01-05       10.28\n",
      "        fecha  temperatura\n",
      "0  2010-01-01    21.584615\n",
      "1  2010-01-02    24.476923\n",
      "2  2010-01-03    24.123077\n",
      "3  2010-01-04    19.246154\n",
      "4  2010-01-05    17.461538\n"
     ]
    }
   ],
   "source": [
    "#Creamos el diccionario con los datos meteorologicos\n",
    "dict_meteorological = {\n",
    "    'humedad': df_humidity,\n",
    "    'puntoRocio': df_dewPoint,\n",
    "    'temperatura': df_temperature\n",
    "}\n",
    "\n",
    "#Realizamos un ciclo for para recorrer todos los \"Dataframes\" y así agruparlos según su fecha y clave para distinguirlos correctamente\n",
    "for clave, df in dict_meteorological.items():\n",
    "   df.columns = ['fecha', clave]\n",
    "\n",
    "   df['fecha'] = pd.to_datetime(df['fecha'], format='%d-%m-%Y %H:%M').dt.date\n",
    "   \n",
    "   #POR CADA FECHA QUE SE REPITA SE DEJA EL PROMEDIO DE TODOS LOS VALORES DE LA FECHA COMO UNA UNICA TUPLA DEBIDO AL REGISTRO HORARIO DE UN DF EN PARTICULAR\n",
    "   df = df.groupby('fecha')[clave].mean().reset_index()   \n",
    "\n",
    "   dict_meteorological[clave] = df\n",
    "   \n",
    "   print (df.head())"
   ]
  },
  {
   "cell_type": "code",
   "execution_count": 7,
   "metadata": {},
   "outputs": [
    {
     "name": "stdout",
     "output_type": "stream",
     "text": [
      "         momento    dd_Valor  ff_Valor\n",
      "0     2010-01-01  210.000000  6.200000\n",
      "1     2010-01-02  198.000000  5.400000\n",
      "2     2010-01-03  258.000000  8.000000\n",
      "3     2010-01-04  284.000000  6.000000\n",
      "4     2010-01-05  228.000000  4.800000\n",
      "...          ...         ...       ...\n",
      "4881  2023-08-28  100.250000  8.333333\n",
      "4882  2023-08-29  192.833333  3.458333\n",
      "4883  2023-08-30  109.480000  5.720000\n",
      "4884  2023-08-31  221.250000  5.541667\n",
      "4885  2023-09-01  103.777778  3.222222\n",
      "\n",
      "[4886 rows x 3 columns]\n"
     ]
    }
   ],
   "source": [
    "#DataFrame para trabajar con todos los datos de Viento\n",
    "\n",
    "#Ruta de la carpeta que contiene los archivos \"Viento\"\n",
    "wind_files = '../../data/raw/datos_direccion_meteorologica/Viento'\n",
    "\n",
    "# Se inicializa un DataFrame vacío que almacene todos los elementos\n",
    "df_wind = pd.DataFrame()\n",
    "\n",
    "#Ciclo for para recorrer los archivos .csv desde el 2010 hasta 2023\n",
    "for año in range(2010, 2024):\n",
    "    # Nombre del archivo correspondiente al año actual\n",
    "    file_name = f'Viento_{año}.csv'\n",
    "\n",
    "    # Ruta completa del archivo \n",
    "    file_route = os.path.join(wind_files, file_name)\n",
    "\n",
    "    # Se verifica si el archivo existe\n",
    "    if os.path.exists(file_route):\n",
    "        # Lee los datos del archivo y los agregar al DataFrame principal\n",
    "        datos_año_actual = pd.read_csv(file_route, sep=';')\n",
    "        df_wind = pd.concat([df_wind, datos_año_actual], ignore_index=True)\n",
    "\n",
    "# --- Fin del ciclo For #\n",
    "\n",
    "# Convertir la columna 'momento' a formato datetime\n",
    "df_wind['momento'] = pd.to_datetime(df_wind['momento'], format='%d-%m-%Y %H:%M')\n",
    "\n",
    "# Extraer solo la fecha (sin la hora) y crear una nueva columna\n",
    "df_wind['momento'] = df_wind['momento'].dt.date\n",
    "\n",
    "# Convertir la columna 'dd_Valor' a números de punto flotante (float)\n",
    "# df_wind['dd_Valor'] = df_wind['dd_Valor'].astype(float)\n",
    "\n",
    "\n",
    "# Calcular el promedio para cada día\n",
    "df_promedio = df_wind.groupby('momento').mean().reset_index()\n",
    "\n",
    " #renombramos columas\n",
    "df_promedio = df_promedio.rename(columns={\n",
    "    'momento': 'fecha'\n",
    "})\n",
    "\n",
    "dict_meteorological ['viento'] = df_promedio\n",
    "# Mostrar el DataFrame resultante\n",
    "print(df_promedio)"
   ]
  },
  {
   "cell_type": "code",
   "execution_count": 8,
   "metadata": {},
   "outputs": [
    {
     "data": {
      "text/plain": [
       "['meteorologia.joblib']"
      ]
     },
     "execution_count": 8,
     "metadata": {},
     "output_type": "execute_result"
    }
   ],
   "source": [
    "joblib.dump(dict_meteorological, 'meteorologia.joblib')"
   ]
  },
  {
   "cell_type": "code",
   "execution_count": 9,
   "metadata": {},
   "outputs": [
    {
     "name": "stdout",
     "output_type": "stream",
     "text": [
      "        fecha    humedad\n",
      "0  2010-01-01  50.000000\n",
      "1  2010-01-02  45.307692\n",
      "2  2010-01-03  52.384615\n",
      "3  2010-01-04  70.384615\n",
      "4  2010-01-05  65.000000\n",
      "        fecha  puntoRocio\n",
      "0  2010-01-01       10.70\n",
      "1  2010-01-02       10.56\n",
      "2  2010-01-03       12.94\n",
      "3  2010-01-04       14.14\n",
      "4  2010-01-05       10.28\n",
      "        fecha  temperatura\n",
      "0  2010-01-01    21.584615\n",
      "1  2010-01-02    24.476923\n",
      "2  2010-01-03    24.123077\n",
      "3  2010-01-04    19.246154\n",
      "4  2010-01-05    17.461538\n",
      "      momento  dd_Valor  ff_Valor\n",
      "0  2010-01-01     210.0       6.2\n",
      "1  2010-01-02     198.0       5.4\n",
      "2  2010-01-03     258.0       8.0\n",
      "3  2010-01-04     284.0       6.0\n",
      "4  2010-01-05     228.0       4.8\n"
     ]
    }
   ],
   "source": [
    "for clave, df in dict_meteorological.items():\n",
    "    print (df.head())"
   ]
  }
 ],
 "metadata": {
  "kernelspec": {
   "display_name": "venv",
   "language": "python",
   "name": "python3"
  },
  "language_info": {
   "codemirror_mode": {
    "name": "ipython",
    "version": 3
   },
   "file_extension": ".py",
   "mimetype": "text/x-python",
   "name": "python",
   "nbconvert_exporter": "python",
   "pygments_lexer": "ipython3",
   "version": "3.11.4"
  },
  "orig_nbformat": 4
 },
 "nbformat": 4,
 "nbformat_minor": 2
}
