{
 "cells": [
  {
   "cell_type": "code",
   "execution_count": 40,
   "id": "8f1669d6-b09f-4c51-85a1-f1ac3ae0438d",
   "metadata": {},
   "outputs": [],
   "source": [
    "import pandas as pd\n",
    "from sklearn.impute import KNNImputer\n",
    "import joblib"
   ]
  },
  {
   "cell_type": "code",
   "execution_count": 41,
   "id": "a3ee0539-18f2-42d4-be10-b7dd07d093d5",
   "metadata": {},
   "outputs": [
    {
     "data": {
      "text/plain": [
       "dict_keys(['pm_2.5_inia', 'pm_2.5_puren', 'pm_10_inia', 'pm_10_puren'])"
      ]
     },
     "execution_count": 41,
     "metadata": {},
     "output_type": "execute_result"
    }
   ],
   "source": [
    "dict_particulas = joblib.load('estaciones.joblib')\n",
    "dict_particulas.keys()"
   ]
  },
  {
   "cell_type": "code",
   "execution_count": 42,
   "id": "0ace5c1e",
   "metadata": {},
   "outputs": [],
   "source": [
    "#PARA PM2.5\n",
    "# RECORRER DIA A DIA EN AMBAS ESTACIONES\n",
    "# TRATAR SIGUIENTES CASOS: \n",
    "# si existen valores en una estacion solamente entonces dejar el valor existente\n",
    "# si existen valores en ambas estaciones entonces promediar\n",
    "\n",
    "\n",
    "df_puren25 = dict_particulas['pm_2.5_puren']\n",
    "df_inia25 = dict_particulas['pm_2.5_inia']\n",
    "\n",
    "# Establecer la columna de fecha como índice\n",
    "df_puren25.reset_index(inplace=True)\n",
    "df_inia25.reset_index(inplace=True)\n",
    "\n",
    "df_puren25.set_index('fecha', inplace=True)\n",
    "df_inia25.set_index('fecha', inplace=True)\n",
    "\n",
    "# Combinar los dos data frames\n",
    "df_combinado25 = pd.concat([df_puren25, df_inia25], keys=['puren', 'inia'], axis=1)\n",
    "\n",
    "\n",
    "#PARA PM10\n",
    "# RECORRER DIA A DIA EN AMBAS ESTACIONES\n",
    "# TRATAR SIGUIENTES CASOS: \n",
    "# si existen valores en una estacion solamente entonces dejar el valor existente\n",
    "# si existen valores en ambas estaciones entonces promediar\n",
    "\n",
    "df_puren10 = dict_particulas['pm_10_puren']\n",
    "df_inia10 = dict_particulas['pm_10_inia']\n",
    "\n",
    "# Establecer la columna de fecha como índice\n",
    "df_puren10.reset_index(inplace=True)\n",
    "df_inia10.reset_index(inplace=True)\n",
    "\n",
    "df_puren10.set_index('fecha', inplace=True)\n",
    "df_inia10.set_index('fecha', inplace=True)\n",
    "\n",
    "# Combinar los dos data frames\n",
    "df_combinado10 = pd.concat([df_puren10, df_inia10], keys=['puren', 'inia'], axis=1)\n",
    "\n",
    "\n"
   ]
  },
  {
   "cell_type": "code",
   "execution_count": 43,
   "id": "0df471dc",
   "metadata": {},
   "outputs": [
    {
     "name": "stdout",
     "output_type": "stream",
     "text": [
      "             puren               inia          promedio_o_existente\n",
      "             index   registro   index registro                     \n",
      "fecha                                                              \n",
      "2012-12-31     0.0   7.318980     NaN      NaN             7.318980\n",
      "2013-01-01     1.0   9.361155     NaN      NaN             9.361155\n",
      "2013-01-02     2.0  13.786540     NaN      NaN            13.786540\n",
      "2013-01-03     3.0  12.311413     0.0  12.2021            12.256756\n",
      "2013-01-04     4.0  12.694497     NaN      NaN            12.694497\n",
      "...            ...        ...     ...      ...                  ...\n",
      "2023-03-27  3711.0  20.166667  3222.0  17.0000            18.583333\n",
      "2023-03-28  3712.0   6.625000  3223.0   5.0000             5.812500\n",
      "2023-03-29  3713.0   5.708333  3224.0   5.0000             5.354167\n",
      "2023-03-30  3714.0  11.666667  3225.0   9.0000            10.333333\n",
      "2023-03-31  3715.0  22.666667  3226.0  19.0000            20.833333\n",
      "\n",
      "[3734 rows x 5 columns]\n"
     ]
    }
   ],
   "source": [
    "# Lidiar con NaNs y calcular el promedio donde sea necesario\n",
    "def promedio_o_existente(row):\n",
    "    valor_puren = row[('puren', 'registro')]\n",
    "    valor_inia = row[('inia', 'registro')]\n",
    "    \n",
    "    if pd.isna(valor_puren) and pd.isna(valor_inia):\n",
    "        return np.nan\n",
    "    elif pd.isna(valor_puren):\n",
    "        return valor_inia\n",
    "    elif pd.isna(valor_inia):\n",
    "        return valor_puren\n",
    "    else:\n",
    "        return (valor_puren + valor_inia) / 2\n",
    "\n",
    "\n",
    "\n",
    "# Aplicar la función a todas las filas\n",
    "df_combinado25['promedio_o_existente'] = df_combinado25.apply(promedio_o_existente, axis=1)\n",
    "\n",
    "# Mostrar el resultado\n",
    "print(df_combinado25)\n"
   ]
  },
  {
   "cell_type": "code",
   "execution_count": 44,
   "id": "5dca8db9",
   "metadata": {},
   "outputs": [
    {
     "name": "stdout",
     "output_type": "stream",
     "text": [
      "           puren           inia          promedio_o_existente\n",
      "           index registro index registro                     \n",
      "fecha                                                        \n",
      "2013-01-01   0.0  27.4733   0.0  23.0059             25.23960\n",
      "2013-01-02   1.0  40.6500   1.0  31.5644             36.10720\n",
      "2013-01-03   2.0  32.1830   2.0  26.2818             29.23240\n",
      "2013-01-04   3.0  38.0133   3.0  28.3704             33.19185\n",
      "2013-01-05   4.0  30.8071   4.0  21.8812             26.34415\n"
     ]
    }
   ],
   "source": [
    "df_combinado10['promedio_o_existente'] = df_combinado10.apply(promedio_o_existente, axis=1)\n",
    "# Mostrar el resultado\n",
    "print(df_combinado10.head())"
   ]
  },
  {
   "cell_type": "code",
   "execution_count": 45,
   "id": "6705a609",
   "metadata": {},
   "outputs": [
    {
     "name": "stdout",
     "output_type": "stream",
     "text": [
      "data pm2.5 \n",
      "\n",
      "        fecha   registro\n",
      "0 2012-12-31   7.318980\n",
      "1 2013-01-01   9.361155\n",
      "2 2013-01-02  13.786540\n",
      "3 2013-01-03  12.256756\n",
      "4 2013-01-04  12.694497\n"
     ]
    }
   ],
   "source": [
    "df_pm25 = df_combinado25.drop(['puren', 'inia'], axis=1, level=0)\n",
    "\n",
    "df_pm25.reset_index(inplace=True)\n",
    "\n",
    "#asignar los nombres de las columnas\n",
    "df_pm25.columns = ['fecha', 'registro']\n",
    "\n",
    "print('data pm2.5 \\n\\n',df_pm25.head())\n",
    "\n"
   ]
  },
  {
   "cell_type": "code",
   "execution_count": 46,
   "id": "9fe9e8ad",
   "metadata": {},
   "outputs": [
    {
     "name": "stdout",
     "output_type": "stream",
     "text": [
      "data pm10 \n",
      "\n",
      "        fecha  registro\n",
      "0 2013-01-01  25.23960\n",
      "1 2013-01-02  36.10720\n",
      "2 2013-01-03  29.23240\n",
      "3 2013-01-04  33.19185\n",
      "4 2013-01-05  26.34415\n"
     ]
    }
   ],
   "source": [
    "df_pm10 = df_combinado10.drop(['puren', 'inia'], axis=1, level=0)\n",
    "\n",
    "df_pm10.reset_index(inplace=True)\n",
    "\n",
    "#asignar los nombres de las columnas\n",
    "df_pm10.columns = ['fecha', 'registro']\n",
    "\n",
    "print('data pm10 \\n\\n',df_pm10.head())"
   ]
  },
  {
   "cell_type": "code",
   "execution_count": 47,
   "id": "4abe94e0",
   "metadata": {},
   "outputs": [
    {
     "name": "stdout",
     "output_type": "stream",
     "text": [
      "pm25 nan:  registro    9\n",
      "dtype: int64\n",
      "pm10 nan:  registro    11\n",
      "dtype: int64\n"
     ]
    }
   ],
   "source": [
    "# Establecer la columna de fecha como índice\n",
    "df_pm25.set_index('fecha', inplace=True)\n",
    "df_pm10.set_index('fecha', inplace=True)\n",
    "\n",
    "# Rellenar fechas faltantes\n",
    "df_pm25 = df_pm25.resample('D').asfreq()\n",
    "df_pm10 = df_pm10.resample('D').asfreq()\n",
    "\n",
    "\n",
    "# Contar el número de NaN en cada columna del DataFrame df_filled\n",
    "nan_count_df_pm25 = df_pm25.isna().sum()\n",
    "nan_count_df_pm10 = df_pm10.isna().sum()\n",
    "\n",
    "\n",
    "#mostrar los valores nulos existentes en cada data frame \n",
    "print('pm25 nan: ',nan_count_df_pm25)\n",
    "print('pm10 nan: ',nan_count_df_pm10)\n",
    "\n",
    "df_pm10 = df_pm10.reset_index()\n",
    "df_pm25 = df_pm25.reset_index()\n"
   ]
  },
  {
   "cell_type": "code",
   "execution_count": 48,
   "id": "56569a3b",
   "metadata": {},
   "outputs": [
    {
     "name": "stdout",
     "output_type": "stream",
     "text": [
      "missing data pm25 \n",
      "\n",
      "           fecha  registro\n",
      "47   2013-02-16       NaN\n",
      "48   2013-02-17       NaN\n",
      "49   2013-02-18       NaN\n",
      "50   2013-02-19       NaN\n",
      "118  2013-04-28       NaN\n",
      "119  2013-04-29       NaN\n",
      "120  2013-04-30       NaN\n",
      "1443 2016-12-13       NaN\n",
      "1444 2016-12-14       NaN\n",
      "missing data pm10 \n",
      "\n",
      "           fecha  registro\n",
      "613  2014-09-06       NaN\n",
      "614  2014-09-07       NaN\n",
      "784  2015-02-24       NaN\n",
      "785  2015-02-25       NaN\n",
      "786  2015-02-26       NaN\n",
      "787  2015-02-27       NaN\n",
      "969  2015-08-28       NaN\n",
      "1236 2016-05-21       NaN\n",
      "1237 2016-05-22       NaN\n",
      "1371 2016-10-03       NaN\n",
      "3437 2022-05-31       NaN\n"
     ]
    }
   ],
   "source": [
    "rows_with_nan = df_pm25[df_pm25.isna().any(axis=1)]\n",
    "print('missing data pm25 \\n\\n',rows_with_nan)\n",
    "\n",
    "rows_with_nan1 = df_pm10[df_pm10.isna().any(axis=1)]\n",
    "print('missing data pm10 \\n\\n',rows_with_nan1)"
   ]
  },
  {
   "cell_type": "code",
   "execution_count": 49,
   "id": "1c382d4e",
   "metadata": {},
   "outputs": [],
   "source": [
    "# Convertir las fechas a formato numérico (por ejemplo, número de días desde la fecha mínima)\n",
    "df_pm25['fecha_num'] = (pd.to_datetime(df_pm25['fecha']) - pd.to_datetime(df_pm25['fecha']).min()).dt.days\n",
    "\n",
    "\n",
    "# Preparar los datos para la imputación\n",
    "X = df_pm25[['fecha_num', 'registro']].values\n",
    "\n",
    "# Realizar la imputación usando k-NN\n",
    "\n",
    "knn_imputer = KNNImputer(n_neighbors=2)\n",
    "X_imputed = knn_imputer.fit_transform(X)\n",
    "\n",
    "# Crear un nuevo DataFrame con los valores imputados\n",
    "df_imputed_pm25 = pd.DataFrame(X_imputed, columns=['fecha', 'registro'])\n",
    "\n",
    "# Reemplazar la columna antigua por la imputada\n",
    "df_pm25['registro'] = df_imputed_pm25['registro']\n",
    "\n",
    "df_pm25 = df_pm25.drop('fecha_num', axis=1)\n",
    "\n"
   ]
  },
  {
   "cell_type": "code",
   "execution_count": 50,
   "id": "7e7fa9c4",
   "metadata": {},
   "outputs": [],
   "source": [
    "# Convertir las fechas a formato numérico (por ejemplo, número de días desde la fecha mínima)\n",
    "df_pm10['fecha_num'] = (pd.to_datetime(df_pm10['fecha']) - pd.to_datetime(df_pm10['fecha']).min()).dt.days\n",
    "\n",
    "\n",
    "# Preparar los datos para la imputación\n",
    "X = df_pm10[['fecha_num', 'registro']].values\n",
    "\n",
    "# Realizar la imputación usando k-NN\n",
    "knn_imputer = KNNImputer(n_neighbors=2)\n",
    "X_imputed = knn_imputer.fit_transform(X)\n",
    "\n",
    "# Crear un nuevo DataFrame con los valores imputados\n",
    "df_imputed_pm10 = pd.DataFrame(X_imputed, columns=['fecha', 'registro'])\n",
    "\n",
    "\n",
    "# reemplazar la columna antigua por la imputada\n",
    "df_pm10['registro'] = df_imputed_pm10['registro']\n",
    "\n",
    "df_pm10 = df_pm10.drop('fecha_num', axis=1)\n"
   ]
  },
  {
   "cell_type": "code",
   "execution_count": 51,
   "id": "4559f006",
   "metadata": {},
   "outputs": [
    {
     "name": "stdout",
     "output_type": "stream",
     "text": [
      "missing data pm25 \n",
      "\n",
      " Empty DataFrame\n",
      "Columns: [fecha, registro]\n",
      "Index: []\n",
      "\n",
      "\n",
      " missing data pm10 \n",
      "\n",
      " Empty DataFrame\n",
      "Columns: [fecha, registro]\n",
      "Index: []\n"
     ]
    }
   ],
   "source": [
    "\n",
    "rows_with_nan = df_pm25[df_pm25.isna().any(axis=1)]\n",
    "print('missing data pm25 \\n\\n',rows_with_nan)\n",
    "\n",
    "rows_with_nan1 = df_imputed_pm10[df_imputed_pm10.isna().any(axis=1)]\n",
    "print('\\n\\n missing data pm10 \\n\\n',rows_with_nan1)"
   ]
  },
  {
   "cell_type": "code",
   "execution_count": 52,
   "id": "7e328e6e",
   "metadata": {},
   "outputs": [
    {
     "data": {
      "text/plain": [
       "['contaminantes.joblib']"
      ]
     },
     "execution_count": 52,
     "metadata": {},
     "output_type": "execute_result"
    }
   ],
   "source": [
    "dict_combined ={\n",
    "    'pm_2.5': df_pm25,\n",
    "    'pm_10': df_pm10\n",
    "}\n",
    "\n",
    "\n",
    "for clave, df in dict_combined.items():\n",
    "    # path para el guardado de archivos\n",
    "    path = '../../data/processed/combined/{}.csv'.format(clave)\n",
    "    df.to_csv(path, sep=';',index=False, float_format='%.4f', decimal=',')\n",
    "\n",
    "#exportamos diccionario\n",
    "joblib.dump(dict_combined, 'contaminantes.joblib')"
   ]
  }
 ],
 "metadata": {
  "kernelspec": {
   "display_name": "Python 3 (ipykernel)",
   "language": "python",
   "name": "python3"
  },
  "language_info": {
   "codemirror_mode": {
    "name": "ipython",
    "version": 3
   },
   "file_extension": ".py",
   "mimetype": "text/x-python",
   "name": "python",
   "nbconvert_exporter": "python",
   "pygments_lexer": "ipython3",
   "version": "3.11.4"
  }
 },
 "nbformat": 4,
 "nbformat_minor": 5
}
