{
 "cells": [
  {
   "cell_type": "code",
   "execution_count": 1,
   "metadata": {},
   "outputs": [],
   "source": [
    "import tensorflow as tf\n",
    "from tensorflow.keras.models import Sequential\n",
    "from tensorflow.keras.layers import Dense\n",
    "from sklearn.model_selection import train_test_split\n",
    "from sklearn.metrics import mean_squared_error, r2_score\n",
    "import numpy as np\n",
    "import pandas as pd\n"
   ]
  },
  {
   "cell_type": "code",
   "execution_count": 46,
   "metadata": {},
   "outputs": [],
   "source": [
    "data_set_conaminantes = pd.read_csv('../../data/processed/normalizados/Dataset_MinMax.csv',sep=';', thousands=None, decimal=',')\n",
    "data_set_conaminantes['fecha'] = pd.to_datetime(data_set_conaminantes['fecha'])\n",
    "\n",
    "\n",
    "# descomponer\n",
    "data_set_conaminantes['year'] = data_set_conaminantes['fecha'].dt.year\n",
    "data_set_conaminantes['month'] = data_set_conaminantes['fecha'].dt.month\n",
    "data_set_conaminantes['day'] = data_set_conaminantes['fecha'].dt.day\n",
    "data_set_conaminantes['hour'] = data_set_conaminantes['fecha'].dt.hour\n",
    "data_with_decomposed_time = data_set_conaminantes.drop(['fecha'], axis=1)\n",
    "\n",
    "\n",
    "\n",
    "\n",
    "# Definir las variables de entrada (X) y las variables objetivo (y)\n",
    "X = data_with_decomposed_time.drop(['pm10', 'pm2.5'], axis=1)  \n",
    "y = data_with_decomposed_time[['pm10', 'pm2.5']]\n",
    "\n",
    "# Dividir los datos en conjuntos de entrenamiento y prueba\n",
    "X_temp, X_test, y_temp, y_test = train_test_split(X, y, test_size=0.15, random_state=42)\n",
    "\n",
    "# Dividir los datos de entrenamiento temporal en conjuntos de entrenamiento y validación\n",
    "X_train, X_val, y_train, y_val = train_test_split(X_temp, y_temp, test_size=0.15, random_state=42)\n"
   ]
  },
  {
   "cell_type": "code",
   "execution_count": 47,
   "metadata": {},
   "outputs": [],
   "source": [
    "model = Sequential([\n",
    "    Dense(32, activation='relu', input_shape=(X_train.shape[1],)),\n",
    "    Dense(32, activation='relu'),\n",
    "    Dense(2, activation='linear')\n",
    "])\n"
   ]
  },
  {
   "cell_type": "code",
   "execution_count": 48,
   "metadata": {},
   "outputs": [
    {
     "name": "stdout",
     "output_type": "stream",
     "text": [
      "Epoch 1/20\n",
      "85/85 [==============================] - 1s 2ms/step - loss: 7174.8354 - mae: 43.2457 - val_loss: 2.6437 - val_mae: 1.4415\n",
      "Epoch 2/20\n",
      "85/85 [==============================] - 0s 1ms/step - loss: 0.8786 - mae: 0.6592 - val_loss: 0.1858 - val_mae: 0.3227\n",
      "Epoch 3/20\n",
      "85/85 [==============================] - 0s 1ms/step - loss: 0.1929 - mae: 0.3301 - val_loss: 0.1844 - val_mae: 0.3204\n",
      "Epoch 4/20\n",
      "85/85 [==============================] - 0s 1ms/step - loss: 0.1884 - mae: 0.3261 - val_loss: 0.1809 - val_mae: 0.3175\n",
      "Epoch 5/20\n",
      "85/85 [==============================] - 0s 1ms/step - loss: 0.1832 - mae: 0.3218 - val_loss: 0.1727 - val_mae: 0.3110\n",
      "Epoch 6/20\n",
      "85/85 [==============================] - 0s 1ms/step - loss: 0.1757 - mae: 0.3152 - val_loss: 0.1632 - val_mae: 0.3035\n",
      "Epoch 7/20\n",
      "85/85 [==============================] - 0s 1ms/step - loss: 0.1682 - mae: 0.3093 - val_loss: 0.1587 - val_mae: 0.2985\n",
      "Epoch 8/20\n",
      "85/85 [==============================] - 0s 1ms/step - loss: 0.1612 - mae: 0.3018 - val_loss: 0.1503 - val_mae: 0.2919\n",
      "Epoch 9/20\n",
      "85/85 [==============================] - 0s 1ms/step - loss: 0.1535 - mae: 0.2953 - val_loss: 0.1476 - val_mae: 0.2875\n",
      "Epoch 10/20\n",
      "85/85 [==============================] - 0s 1ms/step - loss: 0.1446 - mae: 0.2866 - val_loss: 0.1371 - val_mae: 0.2810\n",
      "Epoch 11/20\n",
      "85/85 [==============================] - 0s 1ms/step - loss: 0.1371 - mae: 0.2802 - val_loss: 0.1267 - val_mae: 0.2685\n",
      "Epoch 12/20\n",
      "85/85 [==============================] - 0s 1ms/step - loss: 0.1288 - mae: 0.2708 - val_loss: 0.1177 - val_mae: 0.2584\n",
      "Epoch 13/20\n",
      "85/85 [==============================] - 0s 1ms/step - loss: 0.1221 - mae: 0.2648 - val_loss: 0.1095 - val_mae: 0.2499\n",
      "Epoch 14/20\n",
      "85/85 [==============================] - 0s 2ms/step - loss: 0.1120 - mae: 0.2529 - val_loss: 0.1022 - val_mae: 0.2420\n",
      "Epoch 15/20\n",
      "85/85 [==============================] - 0s 2ms/step - loss: 0.1030 - mae: 0.2429 - val_loss: 0.0945 - val_mae: 0.2333\n",
      "Epoch 16/20\n",
      "85/85 [==============================] - 0s 1ms/step - loss: 0.0974 - mae: 0.2372 - val_loss: 0.0963 - val_mae: 0.2326\n",
      "Epoch 17/20\n",
      "85/85 [==============================] - 0s 1ms/step - loss: 0.0898 - mae: 0.2277 - val_loss: 0.0797 - val_mae: 0.2142\n",
      "Epoch 18/20\n",
      "85/85 [==============================] - 0s 1ms/step - loss: 0.0811 - mae: 0.2163 - val_loss: 0.0732 - val_mae: 0.2049\n",
      "Epoch 19/20\n",
      "85/85 [==============================] - 0s 1ms/step - loss: 0.0732 - mae: 0.2057 - val_loss: 0.0653 - val_mae: 0.1938\n",
      "Epoch 20/20\n",
      "85/85 [==============================] - 0s 1ms/step - loss: 0.0667 - mae: 0.1969 - val_loss: 0.0589 - val_mae: 0.1845\n"
     ]
    },
    {
     "data": {
      "text/plain": [
       "<keras.src.callbacks.History at 0x1bc1a2e0e10>"
      ]
     },
     "execution_count": 48,
     "metadata": {},
     "output_type": "execute_result"
    }
   ],
   "source": [
    "model.compile(optimizer='adam', loss='mean_squared_error', metrics=['mae'])\n",
    "\n",
    "model.fit(X_train, y_train, epochs=20, validation_data=(X_val, y_val))\n",
    "\n"
   ]
  },
  {
   "cell_type": "code",
   "execution_count": 50,
   "metadata": {},
   "outputs": [
    {
     "name": "stdout",
     "output_type": "stream",
     "text": [
      "18/18 [==============================] - 0s 927us/step - loss: 0.0624 - mae: 0.1877\n"
     ]
    }
   ],
   "source": [
    "test_loss, test_mae = model.evaluate(X_test, y_test)"
   ]
  },
  {
   "cell_type": "code",
   "execution_count": 53,
   "metadata": {},
   "outputs": [
    {
     "name": "stdout",
     "output_type": "stream",
     "text": [
      "18/18 [==============================] - 0s 128us/step\n",
      "MSE: 0.06\n",
      "R^2: -17.75\n",
      "RMSE: 0.25\n"
     ]
    }
   ],
   "source": [
    "# Generar predicciones\n",
    "y_pred = model.predict(X_test)\n",
    "\n",
    "# Ahora, y_test es tu y_true\n",
    "y_true = y_test\n",
    "\n",
    "# Calcular las métricas\n",
    "mse = mean_squared_error(y_true, y_pred)\n",
    "r2 = r2_score(y_true, y_pred)\n",
    "rmse = np.sqrt(mse)\n",
    "\n",
    "# Mostrar las métricas\n",
    "print(f'MSE: {mse:.2f}')\n",
    "print(f'R^2: {r2:.2f}')\n",
    "print(f'RMSE: {rmse:.2f}')"
   ]
  }
 ],
 "metadata": {
  "kernelspec": {
   "display_name": "env",
   "language": "python",
   "name": "python3"
  },
  "language_info": {
   "codemirror_mode": {
    "name": "ipython",
    "version": 3
   },
   "file_extension": ".py",
   "mimetype": "text/x-python",
   "name": "python",
   "nbconvert_exporter": "python",
   "pygments_lexer": "ipython3",
   "version": "3.11.4"
  }
 },
 "nbformat": 4,
 "nbformat_minor": 2
}
