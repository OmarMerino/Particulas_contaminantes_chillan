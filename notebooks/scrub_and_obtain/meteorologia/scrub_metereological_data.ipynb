{
 "cells": [
  {
   "cell_type": "code",
   "execution_count": 1,
   "metadata": {},
   "outputs": [],
   "source": [
    "import pandas as pd\n",
    "from datetime import datetime\n",
    "from sklearn.impute import KNNImputer\n",
    "import joblib"
   ]
  },
  {
   "cell_type": "code",
   "execution_count": 2,
   "metadata": {},
   "outputs": [],
   "source": [
    "dict_metereological = joblib.load('meteorologia.joblib')\n",
    "# for clave, df in dict_metereological.items():\n",
    "#     print (clave,df.head())\n",
    "    "
   ]
  },
  {
   "cell_type": "code",
   "execution_count": 3,
   "metadata": {},
   "outputs": [
    {
     "name": "stdout",
     "output_type": "stream",
     "text": [
      "missing data humedad \n",
      "\n",
      "           fecha  humedad\n",
      "430  2011-06-18      NaN\n",
      "missing data punto de Rocio \n",
      "\n",
      "           fecha  puntoRocio\n",
      "430  2011-06-18         NaN\n",
      "missing data temperatura \n",
      "\n",
      " Empty DataFrame\n",
      "Columns: [fecha, temperatura]\n",
      "Index: []\n",
      "missing data viento \n",
      "\n",
      "           fecha  dd_Valor  ff_Valor\n",
      "428  2011-06-18       NaN       NaN\n"
     ]
    }
   ],
   "source": [
    "\n",
    "rows_with_nan = dict_metereological['humedad'][dict_metereological['humedad'].isna().any(axis=1)]\n",
    "rows_with_nan1 = dict_metereological['puntoRocio'][dict_metereological['puntoRocio'].isna().any(axis=1)]\n",
    "rows_with_nan2 = dict_metereological['temperatura'][dict_metereological['temperatura'].isna().any(axis=1)]\n",
    "rows_with_nan3 = dict_metereological['viento'][dict_metereological['viento'].isna().any(axis=1)]\n",
    "\n",
    "print('missing data humedad \\n\\n',rows_with_nan)\n",
    "print('missing data punto de Rocio \\n\\n',rows_with_nan1)\n",
    "print('missing data temperatura \\n\\n',rows_with_nan2)\n",
    "print('missing data viento \\n\\n',rows_with_nan3)"
   ]
  },
  {
   "cell_type": "code",
   "execution_count": 4,
   "metadata": {},
   "outputs": [],
   "source": [
    "# Definir el rango de fechas como datetime\n",
    "fecha_inicio = pd.to_datetime('2013-01-01')\n",
    "fecha_fin = pd.to_datetime('2023-03-31')\n",
    "\n",
    "for key, df in dict_metereological.items():\n",
    "    df['fecha'] = pd.to_datetime(df['fecha'])\n",
    "    dict_metereological[key] = df[(df['fecha'] >= fecha_inicio) & (df['fecha'] <= fecha_fin)]"
   ]
  },
  {
   "cell_type": "code",
   "execution_count": 5,
   "metadata": {},
   "outputs": [],
   "source": [
    "\n",
    "    \n",
    "\n",
    "resultado = list(dict_metereological.values())[0]\n",
    "\n",
    "for df in list(dict_metereological.values())[1:]:\n",
    "    df['fecha'] = pd.to_datetime(df['fecha'])\n",
    "    resultado = pd.merge(resultado, df, on='fecha')\n",
    "\n",
    "\n",
    "\n",
    "nombre = 'Metereologia'\n",
    "path = '../../../data/processed/{}.csv'.format(nombre)\n",
    "resultado.to_csv(path, sep=';',index=False, float_format='%.4f', decimal=',')\n"
   ]
  },
  {
   "cell_type": "code",
   "execution_count": null,
   "metadata": {},
   "outputs": [],
   "source": []
  }
 ],
 "metadata": {
  "kernelspec": {
   "display_name": "env",
   "language": "python",
   "name": "python3"
  },
  "language_info": {
   "codemirror_mode": {
    "name": "ipython",
    "version": 3
   },
   "file_extension": ".py",
   "mimetype": "text/x-python",
   "name": "python",
   "nbconvert_exporter": "python",
   "pygments_lexer": "ipython3",
   "version": "3.11.4"
  },
  "orig_nbformat": 4
 },
 "nbformat": 4,
 "nbformat_minor": 2
}
