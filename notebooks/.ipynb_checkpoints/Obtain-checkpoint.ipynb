{
 "cells": [
  {
   "cell_type": "code",
   "execution_count": 4,
   "id": "415e5324-acda-4f67-9771-6a7ba4edae37",
   "metadata": {},
   "outputs": [
    {
     "ename": "ModuleNotFoundError",
     "evalue": "No module named 'joblib'",
     "output_type": "error",
     "traceback": [
      "\u001b[1;31m---------------------------------------------------------------------------\u001b[0m",
      "\u001b[1;31mModuleNotFoundError\u001b[0m                       Traceback (most recent call last)",
      "Cell \u001b[1;32mIn[4], line 2\u001b[0m\n\u001b[0;32m      1\u001b[0m \u001b[38;5;28;01mimport\u001b[39;00m \u001b[38;5;21;01mpandas\u001b[39;00m \u001b[38;5;28;01mas\u001b[39;00m \u001b[38;5;21;01mpd\u001b[39;00m\n\u001b[1;32m----> 2\u001b[0m \u001b[38;5;28;01mimport\u001b[39;00m \u001b[38;5;21;01mjoblib\u001b[39;00m\n",
      "\u001b[1;31mModuleNotFoundError\u001b[0m: No module named 'joblib'"
     ]
    }
   ],
   "source": [
    "import pandas as pd\n",
    "import joblib\n"
   ]
  },
  {
   "cell_type": "markdown",
   "id": "69ccf7e2",
   "metadata": {},
   "source": []
  },
  {
   "cell_type": "code",
   "execution_count": null,
   "id": "a38c1bbd-a45e-4855-be58-258036e8661e",
   "metadata": {},
   "outputs": [],
   "source": [
    "#PM 2.5 ESTACIONES INIA Y PUREN\n",
    "d_pm25_inia = pd.read_csv('../data/raw/pm2.5_INIA_080913_230807.csv', sep=';')\n",
    "d_pm25_puren = pd.read_csv('../data/raw/pm2.5_puren_120315_230808.csv',sep=';')\n",
    "\n",
    "#PM10 ESTACIONES INIA Y PUREN\n",
    "d_pm10_inia = pd.read_csv('../data/raw/pm10_INIA_080101_230807.csv',sep=';')\n",
    "d_pm10_puren = pd.read_csv('../data/raw/pm10_puren_120316_230807.csv',sep=';')"
   ]
  },
  {
   "cell_type": "code",
   "execution_count": 417,
   "id": "d554b4ff-b05a-4b2b-9e35-3cd4f2a4b8e2",
   "metadata": {},
   "outputs": [
    {
     "data": {
      "text/plain": [
       "['dataframes_dict.joblib']"
      ]
     },
     "execution_count": 417,
     "metadata": {},
     "output_type": "execute_result"
    }
   ],
   "source": [
    "#exportamos diccionario\n",
    "dataframes_dict = {\n",
    "    'pm_2.5_inia': d_pm25_inia,\n",
    "    'pm_2.5_puren': d_pm25_puren,\n",
    "    'pm_10_inia': d_pm10_inia,\n",
    "    'pm_10_puren': d_pm10_puren\n",
    "}\n",
    "\n",
    "\n",
    "for clave, df in dataframes_dict.items():\n",
    "    # path para el guardado de archivos\n",
    "    path = '../data/processed/{}.csv'.format(clave)\n",
    "\n",
    "    #convertimos FECHA (YYMMDD) a string\n",
    "    df['FECHA (YYMMDD)'] = df['FECHA (YYMMDD)'].astype(str)\n",
    "\n",
    "    #rellenamos con 0 para dar uniformidad\n",
    "    df['FECHA (YYMMDD)'] = df['FECHA (YYMMDD)'].str.zfill(6)\n",
    "\n",
    "    # eliminamos el campo hora\n",
    "    df = df.drop('HORA (HHMM)', axis=1)\n",
    "\n",
    "    #dar formato date\n",
    "    df['FECHA (YYMMDD)'] = pd.to_datetime(df['FECHA (YYMMDD)'], format='%y%m%d')\n",
    "\n",
    "    # filtramos solamente registros validados\n",
    "    df = df[df['Registros validados'].notnull()]\n",
    "\n",
    "    #eliminamos registros preliminares\n",
    "    df = df.drop('Registros preliminares', axis=1)\n",
    "\n",
    "    #eliminamos registros no validados\n",
    "    df = df.drop('Registros no validados', axis=1)\n",
    "\n",
    "    #eliminamos columnas 'Unnamed'\n",
    "    df.drop('Unnamed: 5', axis=1, inplace=True)\n",
    "\n",
    "    \n",
    "\n",
    "    #df['Registros validados'] = df['Registros validados'].str.replace('.', '')  # elimina el separador de miles\n",
    "    df['Registros validados'] = df['Registros validados'].str.replace(',', '.') # convierte el separador decimal\n",
    "    # df['Registros validados'] = df['Registros validados'].astype(float)\n",
    "    # df['columna_con_comas'] = df['columna_con_comas'].str.replace(',', '.').astype(float)\n",
    "\n",
    "    \n",
    "\n",
    "    \n",
    "    # #POR CADA FECHA QUE SE REPITA SE DEJA EL PROMEDIO DE TODOS LOS VALORES DE LA FECHA COMO UNA UNICA TUPLA DEBIDO AL REGISTRO HORARIO DE UN DF EN PARTICULAR\n",
    "    # df = df.groupby('FECHA (YYMMDD)')['Registros validados'].mean().reset_index()\n",
    "\n",
    "\n",
    "    #HACEMOS EFECTIVO EL CAMBIO\n",
    "    dataframes_dict[clave] = df\n",
    "\n",
    "    #guardamos nuevo archivo csv\n",
    "    df.to_csv(path, sep=';', index=False)\n",
    "\n",
    "joblib.dump(dataframes_dict, 'dataframes_dict.joblib')\n"
   ]
  },
  {
   "cell_type": "code",
   "execution_count": 414,
   "id": "02b22092",
   "metadata": {},
   "outputs": [
    {
     "name": "stdout",
     "output_type": "stream",
     "text": [
      "pm_2.5_inia 0\n",
      "pm_2.5_puren 84335\n",
      "pm_10_inia 0\n",
      "pm_10_puren 0\n"
     ]
    }
   ],
   "source": [
    "for clave, valor in dataframes_dict.items():\n",
    "    num_duplicados = valor.duplicated(subset=['FECHA (YYMMDD)']).sum()\n",
    "    print(clave, num_duplicados)"
   ]
  },
  {
   "cell_type": "code",
   "execution_count": 411,
   "id": "81e1d627",
   "metadata": {},
   "outputs": [
    {
     "name": "stdout",
     "output_type": "stream",
     "text": [
      "['12,2021' '8,86414' '10,0016' ... '240' '117' '190']\n",
      "['7,31898' '11,4' '8,67998' ... '577' '439' '538']\n",
      "['23,0059' '31,5644' '26,2818' ... '153' '231' '116']\n",
      "['27,4733' '40,65' '32,183' ... '303' '157' '221']\n"
     ]
    }
   ],
   "source": [
    " for clave, df in dataframes_dict.items():\n",
    "     print(df['Registros validados'].unique())\n",
    "\n",
    "# df_puren = dataframes_dict['pm_2.5_puren']\n",
    "# row_with_max_value = df_puren[df_puren['Registros validados'] == df_puren['Registros validados'].max()]\n",
    "# print(row_with_max_value)\n",
    "\n",
    "\n",
    "    \n"
   ]
  },
  {
   "cell_type": "code",
   "execution_count": null,
   "id": "db5001d7",
   "metadata": {},
   "outputs": [],
   "source": []
  }
 ],
 "metadata": {
  "kernelspec": {
   "display_name": "Python 3 (ipykernel)",
   "language": "python",
   "name": "python3"
  },
  "language_info": {
   "codemirror_mode": {
    "name": "ipython",
    "version": 3
   },
   "file_extension": ".py",
   "mimetype": "text/x-python",
   "name": "python",
   "nbconvert_exporter": "python",
   "pygments_lexer": "ipython3",
   "version": "3.11.4"
  }
 },
 "nbformat": 4,
 "nbformat_minor": 5
}
