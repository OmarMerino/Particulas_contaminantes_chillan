{
 "cells": [
  {
   "cell_type": "code",
   "execution_count": 40,
   "metadata": {},
   "outputs": [],
   "source": [
    "import pandas as pd\n",
    "import joblib\n",
    "import os"
   ]
  },
  {
   "cell_type": "code",
   "execution_count": 41,
   "metadata": {},
   "outputs": [
    {
     "name": "stdout",
     "output_type": "stream",
     "text": [
      "                momento  valor\n",
      "0       01-01-2010 0:00   72.0\n",
      "1      01-01-2010 12:00   85.0\n",
      "2      01-01-2010 13:00   66.0\n",
      "3      01-01-2010 14:00   60.0\n",
      "4      01-01-2010 15:00   55.0\n",
      "...                 ...    ...\n",
      "89370   01-09-2023 4:00   97.0\n",
      "89371   01-09-2023 5:00   97.0\n",
      "89372   01-09-2023 6:00   97.0\n",
      "89373   01-09-2023 7:00   97.0\n",
      "89374   01-09-2023 8:00   95.0\n",
      "\n",
      "[89375 rows x 2 columns]\n"
     ]
    }
   ],
   "source": [
    "#DataFrame para trabajar con todos los datos de Humedad\n",
    "\n",
    "#Ruta de la carpeta que contiene los archivos \"Humedad\"\n",
    "humidity_files = '../data/raw/datos_direccion_meteorologica/Humedad'\n",
    "\n",
    "# Se inicializa un DataFrame vacío que almacene todos los elementos\n",
    "df_humidity = pd.DataFrame()\n",
    "\n",
    "#Ciclo for para recorrer los años desde el 2010 hasta 2023\n",
    "for año in range(2010, 2024):\n",
    "    # Nombre del archivo correspondiente al año actual\n",
    "    file_name = f'Humedad_{año}.csv'\n",
    "\n",
    "    # Ruta completa del archivo \n",
    "    file_route = os.path.join(humidity_files, file_name)\n",
    "\n",
    "    # Se verifica si el archivo existe\n",
    "    if os.path.exists(file_route):\n",
    "        # Lee los datos del archivo y los agregar al DataFrame principal\n",
    "        datos_año_actual = pd.read_csv(file_route, sep=';', usecols=[0, 1], decimal='.')\n",
    "        df_humidity = pd.concat([df_humidity, datos_año_actual], ignore_index=True)\n",
    "\n",
    "# --- Fin del ciclo For #\n",
    "\n",
    "print (df_humidity)"
   ]
  },
  {
   "cell_type": "code",
   "execution_count": 42,
   "metadata": {},
   "outputs": [
    {
     "name": "stdout",
     "output_type": "stream",
     "text": [
      "                momento  Td_Valor\n",
      "0       01-01-2010 0:00      12.9\n",
      "1      01-01-2010 12:00      13.3\n",
      "2      01-01-2010 15:00      10.6\n",
      "3      01-01-2010 18:00       9.7\n",
      "4      01-01-2010 21:00       7.0\n",
      "...                 ...       ...\n",
      "87145   01-09-2023 4:00       3.4\n",
      "87146   01-09-2023 5:00       2.5\n",
      "87147   01-09-2023 6:00       3.2\n",
      "87148   01-09-2023 7:00       4.1\n",
      "87149   01-09-2023 8:00       4.7\n",
      "\n",
      "[87150 rows x 2 columns]\n"
     ]
    }
   ],
   "source": [
    "#DataFrame para trabajar con todos los datos de Punto de Rocio\n",
    "\n",
    "#Ruta de la carpeta que contiene los archivos \"Punto de Rocio\"\n",
    "dewPoint_files = '../data/raw/datos_direccion_meteorologica/Punto de Rocio'\n",
    "\n",
    "# Se inicializa un DataFrame vacío que almacene todos los elementos\n",
    "df_dewPoint = pd.DataFrame()\n",
    "\n",
    "#Ciclo for para recorrer los archivos .csv desde el 2010 hasta 2023\n",
    "for año in range(2010, 2024):\n",
    "    # Nombre del archivo correspondiente al año actual\n",
    "    file_name = f'PuntoRocio_{año}.csv'\n",
    "\n",
    "    # Ruta completa del archivo \n",
    "    file_route = os.path.join(dewPoint_files, file_name)\n",
    "\n",
    "    # Se verifica si el archivo existe\n",
    "    if os.path.exists(file_route):\n",
    "        # Lee los datos del archivo y los agregar al DataFrame principal\n",
    "        datos_año_actual = pd.read_csv(file_route, sep=';', usecols=[0, 1])\n",
    "        df_dewPoint = pd.concat([df_dewPoint, datos_año_actual], ignore_index=True)\n",
    "\n",
    "# --- Fin del ciclo For #\n",
    "\n",
    "print (df_dewPoint)"
   ]
  },
  {
   "cell_type": "code",
   "execution_count": 43,
   "metadata": {},
   "outputs": [
    {
     "name": "stdout",
     "output_type": "stream",
     "text": [
      "                momento  Ts_Valor\n",
      "0       01-01-2010 0:00      18.0\n",
      "1      01-01-2010 12:00      15.8\n",
      "2      01-01-2010 13:00      17.6\n",
      "3      01-01-2010 14:00      18.8\n",
      "4      01-01-2010 15:00      20.0\n",
      "...                 ...       ...\n",
      "90000   01-09-2023 4:00       3.8\n",
      "90001   01-09-2023 5:00       2.9\n",
      "90002   01-09-2023 6:00       3.6\n",
      "90003   01-09-2023 7:00       4.5\n",
      "90004   01-09-2023 8:00       5.4\n",
      "\n",
      "[90005 rows x 2 columns]\n"
     ]
    }
   ],
   "source": [
    "#DataFrame para trabajar con todos los datos de Temperatura\n",
    "\n",
    "#Ruta de la carpeta que contiene los archivos \"Temperatura\"\n",
    "temperature_files = '../data/raw/datos_direccion_meteorologica/Temperatura'\n",
    "\n",
    "# Se inicializa un DataFrame vacío que almacene todos los elementos\n",
    "df_temperature = pd.DataFrame()\n",
    "\n",
    "#Ciclo for para recorrer los archivos .csv desde el 2010 hasta 2023\n",
    "for año in range(2010, 2024):\n",
    "    # Nombre del archivo correspondiente al año actual\n",
    "    file_name = f'Temperatura_{año}.csv'\n",
    "\n",
    "    # Ruta completa del archivo \n",
    "    file_route = os.path.join(temperature_files, file_name)\n",
    "\n",
    "    # Se verifica si el archivo existe\n",
    "    if os.path.exists(file_route):\n",
    "        # Lee los datos del archivo y los agregar al DataFrame principal\n",
    "        datos_año_actual = pd.read_csv(file_route, sep=';', usecols=[0, 1])\n",
    "        df_temperature = pd.concat([df_temperature, datos_año_actual], ignore_index=True)\n",
    "\n",
    "# --- Fin del ciclo For #\n",
    "\n",
    "print (df_temperature)"
   ]
  },
  {
   "cell_type": "code",
   "execution_count": 47,
   "metadata": {},
   "outputs": [
    {
     "name": "stdout",
     "output_type": "stream",
     "text": [
      "        fecha   registro\n",
      "0  2010-01-01  50.000000\n",
      "1  2010-01-02  45.307692\n",
      "2  2010-01-03  52.384615\n",
      "3  2010-01-04  70.384615\n",
      "4  2010-01-05  65.000000\n",
      "        fecha  registro\n",
      "0  2010-01-01     10.70\n",
      "1  2010-01-02     10.56\n",
      "2  2010-01-03     12.94\n",
      "3  2010-01-04     14.14\n",
      "4  2010-01-05     10.28\n",
      "        fecha   registro\n",
      "0  2010-01-01  21.584615\n",
      "1  2010-01-02  24.476923\n",
      "2  2010-01-03  24.123077\n",
      "3  2010-01-04  19.246154\n",
      "4  2010-01-05  17.461538\n"
     ]
    },
    {
     "data": {
      "text/plain": [
       "['dict_meteorological.joblib']"
      ]
     },
     "execution_count": 47,
     "metadata": {},
     "output_type": "execute_result"
    }
   ],
   "source": [
    "dict_meteorological = {\n",
    "    'humedad': df_humidity,\n",
    "    'puntoRocio': df_dewPoint,\n",
    "    'temperatura': df_temperature\n",
    "}\n",
    "\n",
    "\n",
    "\n",
    "for clave, df in dict_meteorological.items():\n",
    "   df.columns = ['fecha', 'registro']\n",
    "   \n",
    "#    df['fecha'] = pd.to_datetime(df['fecha'], format='%y%m%d')\n",
    "\n",
    "   df['fecha'] = pd.to_datetime(df['fecha'], format='%d-%m-%Y %H:%M').dt.date\n",
    "   \n",
    "   #POR CADA FECHA QUE SE REPITA SE DEJA EL PROMEDIO DE TODOS LOS VALORES DE LA FECHA COMO UNA UNICA TUPLA DEBIDO AL REGISTRO HORARIO DE UN DF EN PARTICULAR\n",
    "   df = df.groupby('fecha')['registro'].mean().reset_index()   \n",
    "\n",
    "   dict_meteorological[clave] = df\n",
    "   \n",
    "   print (df.head())\n",
    "\n",
    "joblib.dump(dict_meteorological, 'dict_meteorological.joblib')"
   ]
  }
 ],
 "metadata": {
  "kernelspec": {
   "display_name": "venv",
   "language": "python",
   "name": "python3"
  },
  "language_info": {
   "codemirror_mode": {
    "name": "ipython",
    "version": 3
   },
   "file_extension": ".py",
   "mimetype": "text/x-python",
   "name": "python",
   "nbconvert_exporter": "python",
   "pygments_lexer": "ipython3",
   "version": "3.11.4"
  },
  "orig_nbformat": 4
 },
 "nbformat": 4,
 "nbformat_minor": 2
}
