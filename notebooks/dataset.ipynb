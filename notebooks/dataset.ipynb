{
 "cells": [
  {
   "cell_type": "code",
   "execution_count": 20,
   "metadata": {},
   "outputs": [],
   "source": [
    "import pandas as pd"
   ]
  },
  {
   "cell_type": "code",
   "execution_count": 21,
   "metadata": {},
   "outputs": [],
   "source": [
    "d_pm25 = pd.read_csv('../data/processed/pm_2.5.csv',sep=';', thousands=None, decimal=',')\n",
    "d_pm10 = pd.read_csv('../data/processed/pm_10.csv',sep=';', thousands=None, decimal=',')\n",
    "\n",
    "Metereologia = pd.read_csv('../data/processed/Metereologia.csv',sep=';', thousands=None, decimal=',')\n"
   ]
  },
  {
   "cell_type": "code",
   "execution_count": 22,
   "metadata": {},
   "outputs": [],
   "source": [
    "d_contaminantes = pd.merge(d_pm25, d_pm10, on='fecha', how='outer')\n",
    "\n",
    "nuevos_nombres = {\n",
    "    'registro_x': 'pm2.5',\n",
    "    'registro_y': 'pm10'\n",
    "}\n",
    "d_contaminantes = d_contaminantes.rename(columns=nuevos_nombres)\n",
    "# Eliminando la fila con índice 0\n",
    "d_contaminantes.drop(index=0, inplace=True)\n",
    "d_contaminantes.reset_index(drop=True, inplace=True)"
   ]
  },
  {
   "cell_type": "code",
   "execution_count": 23,
   "metadata": {},
   "outputs": [],
   "source": [
    "DataSet = pd.merge(d_contaminantes, Metereologia, on='fecha', how='outer')\n",
    "\n",
    "nombre = 'Dataset_Particulas_contaminantes'\n",
    "\n",
    "path = '../data/processed/{}.csv'.format(nombre)\n",
    "\n",
    "\n",
    "DataSet.to_csv(path, sep=';',index=False, float_format='%.4f', decimal=',')"
   ]
  }
 ],
 "metadata": {
  "kernelspec": {
   "display_name": "env",
   "language": "python",
   "name": "python3"
  },
  "language_info": {
   "codemirror_mode": {
    "name": "ipython",
    "version": 3
   },
   "file_extension": ".py",
   "mimetype": "text/x-python",
   "name": "python",
   "nbconvert_exporter": "python",
   "pygments_lexer": "ipython3",
   "version": "3.11.4"
  },
  "orig_nbformat": 4
 },
 "nbformat": 4,
 "nbformat_minor": 2
}
