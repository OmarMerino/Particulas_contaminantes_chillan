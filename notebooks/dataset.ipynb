{
 "cells": [
  {
   "cell_type": "code",
   "execution_count": 13,
   "metadata": {},
   "outputs": [],
   "source": [
    "import pandas as pd\n",
    "# se combinan datos de metereologia y particulas contaminantes y se calcula icap en base a pm10"
   ]
  },
  {
   "cell_type": "code",
   "execution_count": 14,
   "metadata": {},
   "outputs": [],
   "source": [
    "d_pm25 = pd.read_csv('../data/processed/pm_2.5.csv',sep=';', thousands=None, decimal=',')\n",
    "d_pm10 = pd.read_csv('../data/processed/pm_10.csv',sep=';', thousands=None, decimal=',')\n",
    "\n",
    "Metereologia = pd.read_csv('../data/processed/Metereologia.csv',sep=';', thousands=None, decimal=',')\n"
   ]
  },
  {
   "cell_type": "code",
   "execution_count": 15,
   "metadata": {},
   "outputs": [],
   "source": [
    "d_contaminantes = pd.merge(d_pm25, d_pm10, on='fecha', how='outer')\n",
    "\n",
    "nuevos_nombres = {\n",
    "    'registro_x': 'pm2.5',\n",
    "    'registro_y': 'pm10'\n",
    "}\n",
    "d_contaminantes = d_contaminantes.rename(columns=nuevos_nombres)\n",
    "# Eliminando la fila con índice 0\n",
    "d_contaminantes.drop(index=0, inplace=True)\n",
    "d_contaminantes.reset_index(drop=True, inplace=True)"
   ]
  },
  {
   "cell_type": "code",
   "execution_count": 16,
   "metadata": {},
   "outputs": [],
   "source": [
    "Metereologia.rename(columns={'ff_Valor': 'viento'}, inplace=True)\n",
    "Metereologia.rename(columns={'dd_Valor': 'dir_viento'}, inplace=True)\n",
    "\n",
    "DataSet = pd.merge(d_contaminantes, Metereologia, on='fecha', how='outer')"
   ]
  },
  {
   "cell_type": "code",
   "execution_count": 17,
   "metadata": {},
   "outputs": [
    {
     "name": "stdout",
     "output_type": "stream",
     "text": [
      "           fecha    pm2.5     pm10  humedad  puntoRocio  temperatura  \\\n",
      "0     2013-01-01   9.3612  25.2396  44.8462     10.0615      25.0308   \n",
      "1     2013-01-02  13.7865  36.1072  43.3077     12.1000      25.8000   \n",
      "2     2013-01-03  12.2568  29.2324  62.8462     13.4000      21.2462   \n",
      "3     2013-01-04  12.6945  33.1919  68.6923     13.5385      19.6000   \n",
      "4     2013-01-05   8.6662  26.3441  53.5385     12.3231      23.3231   \n",
      "...          ...      ...      ...      ...         ...          ...   \n",
      "3737  2023-03-27  18.5833  47.5000  53.8750      5.0792      15.8042   \n",
      "3738  2023-03-28   5.8125  23.0000  78.2500      8.4962      12.2885   \n",
      "3739  2023-03-29   5.3542  21.5000  63.3750      5.4625      13.4583   \n",
      "3740  2023-03-30  10.3333  32.0000  55.0417      2.6625      12.6625   \n",
      "3741  2023-03-31  20.8333  47.0000  54.0000      3.7625      15.5917   \n",
      "\n",
      "      dir_viento  viento       icap  \n",
      "0       174.6154  3.7692  16.826400  \n",
      "1       256.1538  3.7692  24.071467  \n",
      "2       213.0769  2.7692  19.488267  \n",
      "3       154.6154  2.7692  22.127933  \n",
      "4       235.3846  3.9231  17.562733  \n",
      "...          ...     ...        ...  \n",
      "3737    180.1250  3.7083  31.666667  \n",
      "3738    155.5000  4.3846  15.333333  \n",
      "3739    219.5000  6.9167  14.333333  \n",
      "3740    216.6667  8.7083  21.333333  \n",
      "3741    222.8333  5.7500  31.333333  \n",
      "\n",
      "[3742 rows x 9 columns]\n"
     ]
    }
   ],
   "source": [
    "# ETIQUETACION DE CALIDAD DEL AIRE BASADO EN ICAP\n",
    "# ICAP            MP10 µg/m3N (24 horas)\n",
    "# 0                0\n",
    "# 100              150\n",
    "# 500              330\n",
    "\n",
    "\n",
    "def ICAP(PM10):\n",
    "\n",
    "    if PM10 < 0:\n",
    "        raise ValueError(\"PM10 debe ser mayor igual a 0\")\n",
    "    \n",
    "\n",
    "    if 0 <= PM10 <= 150:\n",
    "        ICAP = PM10 / 1.5\n",
    "    elif 150 <PM10 :\n",
    "        ICAP = (PM10 - 114) / 0.36\n",
    "\n",
    "    \n",
    "    return ICAP\n",
    "\n",
    "DataSet['icap'] = DataSet['pm10'].apply(ICAP)\n",
    "\n",
    "print(DataSet)"
   ]
  },
  {
   "cell_type": "code",
   "execution_count": 18,
   "metadata": {},
   "outputs": [],
   "source": [
    "nombre = 'Dataset_Particulas_contaminantes'\n",
    "\n",
    "path = '../data/processed/{}.csv'.format(nombre)\n",
    "\n",
    "\n",
    "DataSet.to_csv(path, sep=';',index=False, float_format='%.4f', decimal=',')"
   ]
  }
 ],
 "metadata": {
  "kernelspec": {
   "display_name": "env",
   "language": "python",
   "name": "python3"
  },
  "language_info": {
   "codemirror_mode": {
    "name": "ipython",
    "version": 3
   },
   "file_extension": ".py",
   "mimetype": "text/x-python",
   "name": "python",
   "nbconvert_exporter": "python",
   "pygments_lexer": "ipython3",
   "version": "3.11.4"
  },
  "orig_nbformat": 4
 },
 "nbformat": 4,
 "nbformat_minor": 2
}
