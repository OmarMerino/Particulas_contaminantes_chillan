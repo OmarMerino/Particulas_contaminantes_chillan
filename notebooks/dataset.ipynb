{
 "cells": [
  {
   "cell_type": "code",
   "execution_count": 51,
   "metadata": {},
   "outputs": [],
   "source": [
    "import pandas as pd\n",
    "# se combinan datos de metereologia y particulas contaminantes y se calcula icap en base a pm10"
   ]
  },
  {
   "cell_type": "code",
   "execution_count": 52,
   "metadata": {},
   "outputs": [],
   "source": [
    "d_pm25 = pd.read_csv('../data/processed/pm_2.5.csv',sep=';', thousands=None, decimal=',')\n",
    "d_pm10 = pd.read_csv('../data/processed/pm_10.csv',sep=';', thousands=None, decimal=',')\n",
    "\n",
    "Metereologia = pd.read_csv('../data/processed/Metereologia.csv',sep=';', thousands=None, decimal=',')\n"
   ]
  },
  {
   "cell_type": "code",
   "execution_count": 53,
   "metadata": {},
   "outputs": [],
   "source": [
    "d_contaminantes = pd.merge(d_pm25, d_pm10, on='fecha', how='outer')\n",
    "\n",
    "nuevos_nombres = {\n",
    "    'registro_x': 'pm2.5',\n",
    "    'registro_y': 'pm10'\n",
    "}\n",
    "d_contaminantes = d_contaminantes.rename(columns=nuevos_nombres)\n",
    "# Eliminando la fila con índice 0\n",
    "d_contaminantes.drop(index=0, inplace=True)\n",
    "d_contaminantes.reset_index(drop=True, inplace=True)"
   ]
  },
  {
   "cell_type": "code",
   "execution_count": 54,
   "metadata": {},
   "outputs": [],
   "source": [
    "Metereologia.rename(columns={'ff_Valor': 'viento'}, inplace=True)\n",
    "Metereologia.rename(columns={'dd_Valor': 'dir_viento'}, inplace=True)\n",
    "\n",
    "DataSet = pd.merge(d_contaminantes, Metereologia, on='fecha', how='outer')"
   ]
  },
  {
   "cell_type": "code",
   "execution_count": 55,
   "metadata": {},
   "outputs": [
    {
     "name": "stdout",
     "output_type": "stream",
     "text": [
      "El conteo de calidad 'Bueno' es: 3655\n",
      "El conteo de calidad 'Regular' es: 59\n",
      "El conteo de calidad 'Alerta ambiental' es: 14\n",
      "El conteo de calidad 'Preemergencia ambiental' es: 11\n",
      "El conteo de calidad 'Emergencia ambiental' es: 3\n"
     ]
    }
   ],
   "source": [
    "# ETIQUETACION DE CALIDAD DEL AIRE BASADO EN ICAP\n",
    "# ICAP            MP10 µg/m3N (24 horas)\n",
    "# 0                0\n",
    "# 100              150\n",
    "# 500              330\n",
    "\n",
    "\n",
    "def ICAP(PM10):\n",
    "\n",
    "    if PM10 < 0:\n",
    "        raise ValueError(\"PM10 debe ser mayor igual a 0\")\n",
    "    \n",
    "\n",
    "    if 0 <= PM10 <= 150:\n",
    "        ICAP = PM10 / 1.5\n",
    "    elif 150 <PM10 :\n",
    "        ICAP = (PM10 - 114) / 0.36\n",
    "\n",
    "    \n",
    "    return ICAP\n",
    "\n",
    "DataSet['icap'] = DataSet['pm10'].apply(ICAP)\n",
    "\n",
    "# Definir los bordes de los bins (contenedores)\n",
    "bins = [-1, 99, 199, 299, 499, float('inf')]\n",
    "\n",
    "# Definir las etiquetas para los bins. Nota: Las etiquetas se aplican desde el valor más alto al más bajo\n",
    "labels = [5, 4, 3, 2, 1]\n",
    "\n",
    "# Crear la nueva columna\n",
    "DataSet['calidad_aire'] = pd.cut(DataSet['icap'], bins=bins, labels=labels)\n",
    "\n",
    "# Si quieres que 'calidad_aire' sea de tipo int en lugar de category:\n",
    "DataSet['calidad_aire'] = DataSet['calidad_aire'].astype(int)\n",
    "conteo_calidad_aire = DataSet['calidad_aire'].value_counts()\n",
    "etiquetas = {\n",
    "    5: \"Bueno\",\n",
    "    4: \"Regular\",\n",
    "    3: \"Alerta ambiental\",\n",
    "    2: \"Preemergencia ambiental\",\n",
    "    1: \"Emergencia ambiental\"\n",
    "}\n",
    "\n",
    "for etiqueta_num, etiqueta_texto in etiquetas.items():\n",
    "    conteo = conteo_calidad_aire[etiqueta_num]\n",
    "    print(f\"El conteo de calidad '{etiqueta_texto}' es: {conteo}\")\n",
    "    \n",
    "# DataSet.describe()"
   ]
  },
  {
   "cell_type": "code",
   "execution_count": 56,
   "metadata": {},
   "outputs": [],
   "source": [
    "nombre = 'Dataset_Particulas_contaminantes'\n",
    "\n",
    "path = '../data/processed/{}.csv'.format(nombre)\n",
    "\n",
    "\n",
    "DataSet.to_csv(path, sep=';',index=False, float_format='%.4f', decimal=',')"
   ]
  }
 ],
 "metadata": {
  "kernelspec": {
   "display_name": "env",
   "language": "python",
   "name": "python3"
  },
  "language_info": {
   "codemirror_mode": {
    "name": "ipython",
    "version": 3
   },
   "file_extension": ".py",
   "mimetype": "text/x-python",
   "name": "python",
   "nbconvert_exporter": "python",
   "pygments_lexer": "ipython3",
   "version": "3.11.4"
  },
  "orig_nbformat": 4
 },
 "nbformat": 4,
 "nbformat_minor": 2
}
